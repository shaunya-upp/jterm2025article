{
 "cells": [
  {
   "cell_type": "code",
   "execution_count": 1,
   "id": "966cb171-377b-43b7-a1a3-252e80d1a02f",
   "metadata": {},
   "outputs": [],
   "source": [
    "import pandas as pd"
   ]
  },
  {
   "cell_type": "code",
   "execution_count": 2,
   "id": "ec76f55f-e246-422d-a0a6-39ee492ce47f",
   "metadata": {},
   "outputs": [],
   "source": [
    "uk = pd.read_csv(\"UK Diabetes Obesity Datasets.csv\")"
   ]
  },
  {
   "cell_type": "code",
   "execution_count": 1,
   "id": "dc866689-8571-4682-8825-b06bffc7993e",
   "metadata": {},
   "outputs": [],
   "source": [
    "#| label: uk-data-table"
   ]
  },
  {
   "cell_type": "code",
   "execution_count": null,
   "id": "13008ce6-d31d-4363-93ac-eaffc8fca35a",
   "metadata": {},
   "outputs": [],
   "source": []
  }
 ],
 "metadata": {
  "kernelspec": {
   "display_name": "Python 3 (ipykernel)",
   "language": "python",
   "name": "python3"
  },
  "language_info": {
   "codemirror_mode": {
    "name": "ipython",
    "version": 3
   },
   "file_extension": ".py",
   "mimetype": "text/x-python",
   "name": "python",
   "nbconvert_exporter": "python",
   "pygments_lexer": "ipython3",
   "version": "3.13.1"
  }
 },
 "nbformat": 4,
 "nbformat_minor": 5
}
